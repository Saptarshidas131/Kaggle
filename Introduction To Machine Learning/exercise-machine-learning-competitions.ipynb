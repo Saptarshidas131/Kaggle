{
 "cells": [
  {
   "cell_type": "markdown",
   "id": "5d7041a5",
   "metadata": {
    "papermill": {
     "duration": 0.013035,
     "end_time": "2021-07-27T12:35:04.828596",
     "exception": false,
     "start_time": "2021-07-27T12:35:04.815561",
     "status": "completed"
    },
    "tags": []
   },
   "source": [
    "**This notebook is an exercise in the [Introduction to Machine Learning](https://www.kaggle.com/learn/intro-to-machine-learning) course.  You can reference the tutorial at [this link](https://www.kaggle.com/alexisbcook/machine-learning-competitions).**\n",
    "\n",
    "---\n"
   ]
  },
  {
   "cell_type": "markdown",
   "id": "0e895b6a",
   "metadata": {
    "papermill": {
     "duration": 0.011691,
     "end_time": "2021-07-27T12:35:04.852598",
     "exception": false,
     "start_time": "2021-07-27T12:35:04.840907",
     "status": "completed"
    },
    "tags": []
   },
   "source": [
    "# Introduction\n",
    "\n",
    "In this exercise, you will create and submit predictions for a Kaggle competition. You can then improve your model (e.g. by adding features) to apply what you've learned and move up the leaderboard.\n",
    "\n",
    "Begin by running the code cell below to set up code checking and the filepaths for the dataset."
   ]
  },
  {
   "cell_type": "code",
   "execution_count": 1,
   "id": "5d9c4146",
   "metadata": {
    "execution": {
     "iopub.execute_input": "2021-07-27T12:35:04.888722Z",
     "iopub.status.busy": "2021-07-27T12:35:04.888006Z",
     "iopub.status.idle": "2021-07-27T12:35:04.928630Z",
     "shell.execute_reply": "2021-07-27T12:35:04.929162Z",
     "shell.execute_reply.started": "2021-07-27T12:05:36.090397Z"
    },
    "papermill": {
     "duration": 0.06492,
     "end_time": "2021-07-27T12:35:04.929495",
     "exception": false,
     "start_time": "2021-07-27T12:35:04.864575",
     "status": "completed"
    },
    "tags": []
   },
   "outputs": [],
   "source": [
    "# Set up code checking\n",
    "from learntools.core import binder\n",
    "binder.bind(globals())\n",
    "from learntools.machine_learning.ex7 import *\n",
    "\n",
    "# Set up filepaths\n",
    "import os\n",
    "if not os.path.exists(\"../input/train.csv\"):\n",
    "    os.symlink(\"../input/home-data-for-ml-course/train.csv\", \"../input/train.csv\")  \n",
    "    os.symlink(\"../input/home-data-for-ml-course/test.csv\", \"../input/test.csv\") "
   ]
  },
  {
   "cell_type": "markdown",
   "id": "77f2e4e9",
   "metadata": {
    "papermill": {
     "duration": 0.011884,
     "end_time": "2021-07-27T12:35:04.953505",
     "exception": false,
     "start_time": "2021-07-27T12:35:04.941621",
     "status": "completed"
    },
    "tags": []
   },
   "source": [
    "Here's some of the code you've written so far. Start by running it again."
   ]
  },
  {
   "cell_type": "code",
   "execution_count": 2,
   "id": "8e5f29d4",
   "metadata": {
    "execution": {
     "iopub.execute_input": "2021-07-27T12:35:04.981313Z",
     "iopub.status.busy": "2021-07-27T12:35:04.980319Z",
     "iopub.status.idle": "2021-07-27T12:35:06.736594Z",
     "shell.execute_reply": "2021-07-27T12:35:06.737033Z",
     "shell.execute_reply.started": "2021-07-27T12:21:23.930782Z"
    },
    "papermill": {
     "duration": 1.771734,
     "end_time": "2021-07-27T12:35:06.737232",
     "exception": false,
     "start_time": "2021-07-27T12:35:04.965498",
     "status": "completed"
    },
    "tags": []
   },
   "outputs": [
    {
     "name": "stdout",
     "output_type": "stream",
     "text": [
      "Validation MAE for Random Forest Model: 21,857\n"
     ]
    }
   ],
   "source": [
    "# Import helpful libraries\n",
    "import pandas as pd\n",
    "from sklearn.ensemble import RandomForestRegressor\n",
    "from sklearn.metrics import mean_absolute_error\n",
    "from sklearn.model_selection import train_test_split\n",
    "\n",
    "# Load the data, and separate the target\n",
    "iowa_file_path = '../input/train.csv'\n",
    "home_data = pd.read_csv(iowa_file_path)\n",
    "y = home_data.SalePrice\n",
    "\n",
    "# Create X (After completing the exercise, you can return to modify this line!)\n",
    "features = ['LotArea', 'YearBuilt', '1stFlrSF', '2ndFlrSF', 'FullBath', 'BedroomAbvGr', 'TotRmsAbvGrd']\n",
    "\n",
    "# Select columns corresponding to features, and preview the data\n",
    "X = home_data[features]\n",
    "X.head()\n",
    "\n",
    "# Split into validation and training data\n",
    "train_X, val_X, train_y, val_y = train_test_split(X, y, random_state=1)\n",
    "\n",
    "# Define a random forest model\n",
    "rf_model = RandomForestRegressor(random_state=1)\n",
    "rf_model.fit(train_X, train_y)\n",
    "rf_val_predictions = rf_model.predict(val_X)\n",
    "rf_val_mae = mean_absolute_error(rf_val_predictions, val_y)\n",
    "\n",
    "print(\"Validation MAE for Random Forest Model: {:,.0f}\".format(rf_val_mae))"
   ]
  },
  {
   "cell_type": "markdown",
   "id": "d1456be9",
   "metadata": {
    "papermill": {
     "duration": 0.012292,
     "end_time": "2021-07-27T12:35:06.762564",
     "exception": false,
     "start_time": "2021-07-27T12:35:06.750272",
     "status": "completed"
    },
    "tags": []
   },
   "source": [
    "# Train a model for the competition\n",
    "\n",
    "The code cell above trains a Random Forest model on **`train_X`** and **`train_y`**.  \n",
    "\n",
    "Use the code cell below to build a Random Forest model and train it on all of **`X`** and **`y`**."
   ]
  },
  {
   "cell_type": "code",
   "execution_count": 3,
   "id": "e5f56a25",
   "metadata": {
    "execution": {
     "iopub.execute_input": "2021-07-27T12:35:06.796688Z",
     "iopub.status.busy": "2021-07-27T12:35:06.795689Z",
     "iopub.status.idle": "2021-07-27T12:35:07.399854Z",
     "shell.execute_reply": "2021-07-27T12:35:07.400405Z",
     "shell.execute_reply.started": "2021-07-27T12:09:18.745480Z"
    },
    "papermill": {
     "duration": 0.625654,
     "end_time": "2021-07-27T12:35:07.400576",
     "exception": false,
     "start_time": "2021-07-27T12:35:06.774922",
     "status": "completed"
    },
    "tags": []
   },
   "outputs": [
    {
     "data": {
      "text/plain": [
       "RandomForestRegressor(random_state=1)"
      ]
     },
     "execution_count": 3,
     "metadata": {},
     "output_type": "execute_result"
    }
   ],
   "source": [
    "# To improve accuracy, create a new Random Forest model which you will train on all training data\n",
    "# new Random Forest model on full data\n",
    "rf_model_on_full_data = RandomForestRegressor(random_state=1)\n",
    "\n",
    "# fit rf_model_on_full_data on all data from the training data\n",
    "# fitting the data on X and y\n",
    "rf_model_on_full_data.fit(X,y)"
   ]
  },
  {
   "cell_type": "markdown",
   "id": "8ad7dae8",
   "metadata": {
    "papermill": {
     "duration": 0.01236,
     "end_time": "2021-07-27T12:35:07.425676",
     "exception": false,
     "start_time": "2021-07-27T12:35:07.413316",
     "status": "completed"
    },
    "tags": []
   },
   "source": [
    "Now, read the file of \"test\" data, and apply your model to make predictions."
   ]
  },
  {
   "cell_type": "code",
   "execution_count": 4,
   "id": "f1c7ea5b",
   "metadata": {
    "execution": {
     "iopub.execute_input": "2021-07-27T12:35:07.455036Z",
     "iopub.status.busy": "2021-07-27T12:35:07.454061Z",
     "iopub.status.idle": "2021-07-27T12:35:07.540588Z",
     "shell.execute_reply": "2021-07-27T12:35:07.539910Z",
     "shell.execute_reply.started": "2021-07-27T12:15:48.645514Z"
    },
    "papermill": {
     "duration": 0.102137,
     "end_time": "2021-07-27T12:35:07.540733",
     "exception": false,
     "start_time": "2021-07-27T12:35:07.438596",
     "status": "completed"
    },
    "tags": []
   },
   "outputs": [
    {
     "name": "stdout",
     "output_type": "stream",
     "text": [
      "['LotArea', 'YearBuilt', '1stFlrSF', '2ndFlrSF', 'FullBath', 'BedroomAbvGr', 'TotRmsAbvGrd']\n",
      "      LotArea  YearBuilt  1stFlrSF  2ndFlrSF  FullBath  BedroomAbvGr  \\\n",
      "0       11622       1961       896         0         1             2   \n",
      "1       14267       1958      1329         0         1             3   \n",
      "2       13830       1997       928       701         2             3   \n",
      "3        9978       1998       926       678         2             3   \n",
      "4        5005       1992      1280         0         2             2   \n",
      "...       ...        ...       ...       ...       ...           ...   \n",
      "1454     1936       1970       546       546         1             3   \n",
      "1455     1894       1970       546       546         1             3   \n",
      "1456    20000       1960      1224         0         1             4   \n",
      "1457    10441       1992       970         0         1             3   \n",
      "1458     9627       1993       996      1004         2             3   \n",
      "\n",
      "      TotRmsAbvGrd  \n",
      "0                5  \n",
      "1                6  \n",
      "2                6  \n",
      "3                7  \n",
      "4                5  \n",
      "...            ...  \n",
      "1454             5  \n",
      "1455             6  \n",
      "1456             7  \n",
      "1457             6  \n",
      "1458             9  \n",
      "\n",
      "[1459 rows x 7 columns]\n"
     ]
    }
   ],
   "source": [
    "# path to file you will use for predictions\n",
    "test_data_path = '../input/test.csv'\n",
    "\n",
    "# read test data file using pandas\n",
    "test_data = pd.read_csv(test_data_path)\n",
    "\n",
    "# test_data first few rows\n",
    "test_data.head()\n",
    "# create test_X which comes from test_data but includes only the columns you used for prediction.\n",
    "# The list of columns is stored in a variable called features\n",
    "# print features\n",
    "print(features)\n",
    "# print test data with the features\n",
    "print(test_data[features])\n",
    "test_X = test_data[features]\n",
    "\n",
    "\n",
    "# make predictions which we will submit. \n",
    "# make predictions on test_X\n",
    "test_preds = rf_model_on_full_data.predict(test_X)"
   ]
  },
  {
   "cell_type": "markdown",
   "id": "87bfd3be",
   "metadata": {
    "papermill": {
     "duration": 0.012693,
     "end_time": "2021-07-27T12:35:07.566741",
     "exception": false,
     "start_time": "2021-07-27T12:35:07.554048",
     "status": "completed"
    },
    "tags": []
   },
   "source": [
    "Before submitting, run a check to make sure your `test_preds` have the right format."
   ]
  },
  {
   "cell_type": "code",
   "execution_count": 5,
   "id": "65845691",
   "metadata": {
    "execution": {
     "iopub.execute_input": "2021-07-27T12:35:07.599118Z",
     "iopub.status.busy": "2021-07-27T12:35:07.598444Z",
     "iopub.status.idle": "2021-07-27T12:35:07.604395Z",
     "shell.execute_reply": "2021-07-27T12:35:07.603763Z",
     "shell.execute_reply.started": "2021-07-27T12:25:54.304931Z"
    },
    "papermill": {
     "duration": 0.024622,
     "end_time": "2021-07-27T12:35:07.604534",
     "exception": false,
     "start_time": "2021-07-27T12:35:07.579912",
     "status": "completed"
    },
    "tags": []
   },
   "outputs": [
    {
     "data": {
      "application/javascript": [
       "parent.postMessage({\"jupyterEvent\": \"custom.exercise_interaction\", \"data\": {\"outcomeType\": 1, \"valueTowardsCompletion\": 1.0, \"interactionType\": 1, \"questionType\": 2, \"questionId\": \"1_CheckSubmittablePreds\", \"learnToolsVersion\": \"0.3.4\", \"failureMessage\": \"\", \"exceptionClass\": \"\", \"trace\": \"\"}}, \"*\")"
      ],
      "text/plain": [
       "<IPython.core.display.Javascript object>"
      ]
     },
     "metadata": {},
     "output_type": "display_data"
    },
    {
     "data": {
      "text/markdown": [
       "<span style=\"color:#33cc33\">Correct</span>"
      ],
      "text/plain": [
       "Correct"
      ]
     },
     "metadata": {},
     "output_type": "display_data"
    }
   ],
   "source": [
    "# Check your answer (To get credit for completing the exercise, you must get a \"Correct\" result!)\n",
    "step_1.check()\n",
    "# step_1.solution()"
   ]
  },
  {
   "cell_type": "code",
   "execution_count": 6,
   "id": "d4076959",
   "metadata": {
    "execution": {
     "iopub.execute_input": "2021-07-27T12:35:07.639033Z",
     "iopub.status.busy": "2021-07-27T12:35:07.638144Z",
     "iopub.status.idle": "2021-07-27T12:35:07.642748Z",
     "shell.execute_reply": "2021-07-27T12:35:07.642118Z",
     "shell.execute_reply.started": "2021-07-27T12:25:01.085049Z"
    },
    "papermill": {
     "duration": 0.024131,
     "end_time": "2021-07-27T12:35:07.642883",
     "exception": false,
     "start_time": "2021-07-27T12:35:07.618752",
     "status": "completed"
    },
    "tags": []
   },
   "outputs": [
    {
     "data": {
      "text/plain": [
       "array([122656.58, 156789.  , 182959.  , ..., 151283.01, 127878.  ,\n",
       "       225959.8 ])"
      ]
     },
     "execution_count": 6,
     "metadata": {},
     "output_type": "execute_result"
    }
   ],
   "source": [
    "test_preds"
   ]
  },
  {
   "cell_type": "markdown",
   "id": "2b7947d1",
   "metadata": {
    "papermill": {
     "duration": 0.014327,
     "end_time": "2021-07-27T12:35:07.671821",
     "exception": false,
     "start_time": "2021-07-27T12:35:07.657494",
     "status": "completed"
    },
    "tags": []
   },
   "source": [
    "# Generate a submission\n",
    "\n",
    "Run the code cell below to generate a CSV file with your predictions that you can use to submit to the competition."
   ]
  },
  {
   "cell_type": "code",
   "execution_count": 7,
   "id": "ad5da5ef",
   "metadata": {
    "execution": {
     "iopub.execute_input": "2021-07-27T12:35:07.706486Z",
     "iopub.status.busy": "2021-07-27T12:35:07.705855Z",
     "iopub.status.idle": "2021-07-27T12:35:07.716529Z",
     "shell.execute_reply": "2021-07-27T12:35:07.715953Z",
     "shell.execute_reply.started": "2021-07-27T12:26:59.904988Z"
    },
    "papermill": {
     "duration": 0.030381,
     "end_time": "2021-07-27T12:35:07.716679",
     "exception": false,
     "start_time": "2021-07-27T12:35:07.686298",
     "status": "completed"
    },
    "tags": []
   },
   "outputs": [],
   "source": [
    "# Run the code to save predictions in the format used for competition scoring\n",
    "\n",
    "output = pd.DataFrame({'Id': test_data.Id,\n",
    "                       'SalePrice': test_preds})\n",
    "output.to_csv('submission.csv', index=False)"
   ]
  },
  {
   "cell_type": "code",
   "execution_count": 8,
   "id": "6ef3512f",
   "metadata": {
    "execution": {
     "iopub.execute_input": "2021-07-27T12:35:07.753781Z",
     "iopub.status.busy": "2021-07-27T12:35:07.753143Z",
     "iopub.status.idle": "2021-07-27T12:35:07.761428Z",
     "shell.execute_reply": "2021-07-27T12:35:07.760765Z",
     "shell.execute_reply.started": "2021-07-27T12:29:21.725294Z"
    },
    "papermill": {
     "duration": 0.029795,
     "end_time": "2021-07-27T12:35:07.761581",
     "exception": false,
     "start_time": "2021-07-27T12:35:07.731786",
     "status": "completed"
    },
    "tags": []
   },
   "outputs": [
    {
     "data": {
      "text/html": [
       "<div>\n",
       "<style scoped>\n",
       "    .dataframe tbody tr th:only-of-type {\n",
       "        vertical-align: middle;\n",
       "    }\n",
       "\n",
       "    .dataframe tbody tr th {\n",
       "        vertical-align: top;\n",
       "    }\n",
       "\n",
       "    .dataframe thead th {\n",
       "        text-align: right;\n",
       "    }\n",
       "</style>\n",
       "<table border=\"1\" class=\"dataframe\">\n",
       "  <thead>\n",
       "    <tr style=\"text-align: right;\">\n",
       "      <th></th>\n",
       "      <th>Id</th>\n",
       "      <th>SalePrice</th>\n",
       "    </tr>\n",
       "  </thead>\n",
       "  <tbody>\n",
       "    <tr>\n",
       "      <th>0</th>\n",
       "      <td>1461</td>\n",
       "      <td>122656.58</td>\n",
       "    </tr>\n",
       "    <tr>\n",
       "      <th>1</th>\n",
       "      <td>1462</td>\n",
       "      <td>156789.00</td>\n",
       "    </tr>\n",
       "    <tr>\n",
       "      <th>2</th>\n",
       "      <td>1463</td>\n",
       "      <td>182959.00</td>\n",
       "    </tr>\n",
       "    <tr>\n",
       "      <th>3</th>\n",
       "      <td>1464</td>\n",
       "      <td>178102.00</td>\n",
       "    </tr>\n",
       "    <tr>\n",
       "      <th>4</th>\n",
       "      <td>1465</td>\n",
       "      <td>189049.48</td>\n",
       "    </tr>\n",
       "  </tbody>\n",
       "</table>\n",
       "</div>"
      ],
      "text/plain": [
       "     Id  SalePrice\n",
       "0  1461  122656.58\n",
       "1  1462  156789.00\n",
       "2  1463  182959.00\n",
       "3  1464  178102.00\n",
       "4  1465  189049.48"
      ]
     },
     "execution_count": 8,
     "metadata": {},
     "output_type": "execute_result"
    }
   ],
   "source": [
    "output.head()"
   ]
  },
  {
   "cell_type": "markdown",
   "id": "cb69b745",
   "metadata": {
    "papermill": {
     "duration": 0.01468,
     "end_time": "2021-07-27T12:35:07.791367",
     "exception": false,
     "start_time": "2021-07-27T12:35:07.776687",
     "status": "completed"
    },
    "tags": []
   },
   "source": [
    "# Submit to the competition\n",
    "\n",
    "To test your results, you'll need to join the competition (if you haven't already).  So open a new window by clicking on **[this link](https://www.kaggle.com/c/home-data-for-ml-course)**.  Then click on the **Join Competition** button.\n",
    "\n",
    "![join competition image](https://i.imgur.com/axBzctl.png)\n",
    "\n",
    "Next, follow the instructions below:\n",
    "1. Begin by clicking on the **Save Version** button in the top right corner of the window.  This will generate a pop-up window.  \n",
    "2. Ensure that the **Save and Run All** option is selected, and then click on the **Save** button.\n",
    "3. This generates a window in the bottom left corner of the notebook.  After it has finished running, click on the number to the right of the **Save Version** button.  This pulls up a list of versions on the right of the screen.  Click on the ellipsis **(...)** to the right of the most recent version, and select **Open in Viewer**.  This brings you into view mode of the same page. You will need to scroll down to get back to these instructions.\n",
    "4. Click on the **Output** tab on the right of the screen.  Then, click on the file you would like to submit, and click on the blue **Submit** button to submit your results to the leaderboard.\n",
    "\n",
    "You have now successfully submitted to the competition!\n",
    "\n",
    "If you want to keep working to improve your performance, select the **Edit** button in the top right of the screen. Then you can change your code and repeat the process. There's a lot of room to improve, and you will climb up the leaderboard as you work.\n",
    "\n",
    "\n",
    "# Continue Your Progress\n",
    "There are many ways to improve your model, and **experimenting is a great way to learn at this point.**\n",
    "\n",
    "The best way to improve your model is to add features.  To add more features to the data, revisit the first code cell, and change this line of code to include more column names:\n",
    "```python\n",
    "features = ['LotArea', 'YearBuilt', '1stFlrSF', '2ndFlrSF', 'FullBath', 'BedroomAbvGr', 'TotRmsAbvGrd']\n",
    "```\n",
    "\n",
    "Some features will cause errors because of issues like missing values or non-numeric data types.  Here is a complete list of potential columns that you might like to use, and that won't throw errors:\n",
    "- 'MSSubClass'\n",
    "- 'LotArea'\n",
    "- 'OverallQual' \n",
    "- 'OverallCond' \n",
    "- 'YearBuilt'\n",
    "- 'YearRemodAdd' \n",
    "- 'BsmtFinSF1'\n",
    "- 'BsmtFinSF2'\n",
    "- 'BsmtUnfSF'\n",
    "- 'TotalBsmtSF' \n",
    "- '1stFlrSF'\n",
    "- '2ndFlrSF' \n",
    "- 'LowQualFinSF' \n",
    "- 'GrLivArea'\n",
    "- 'BsmtFullBath' \n",
    "- 'BsmtHalfBath' \n",
    "- 'FullBath'\n",
    "- 'HalfBath'\n",
    "- 'BedroomAbvGr' \n",
    "- 'KitchenAbvGr' \n",
    "- 'TotRmsAbvGrd' \n",
    "- 'Fireplaces' \n",
    "- 'GarageCars' \n",
    "- 'GarageArea' \n",
    "- 'WoodDeckSF' \n",
    "- 'OpenPorchSF'\n",
    "- 'EnclosedPorch' \n",
    "- '3SsnPorch' \n",
    "- 'ScreenPorch' \n",
    "- 'PoolArea' \n",
    "- 'MiscVal' \n",
    "- 'MoSold' \n",
    "- 'YrSold'\n",
    "\n",
    "Look at the list of columns and think about what might affect home prices.  To learn more about each of these features, take a look at the data description on the **[competition page](https://www.kaggle.com/c/home-data-for-ml-course/data)**.\n",
    "\n",
    "After updating the code cell above that defines the features, re-run all of the code cells to evaluate the model and generate a new submission file.  \n",
    "\n",
    "\n",
    "# What's next?\n",
    "\n",
    "As mentioned above, some of the features will throw an error if you try to use them to train your model.  The **[Intermediate Machine Learning](https://www.kaggle.com/learn/intermediate-machine-learning)** course will teach you how to handle these types of features. You will also learn to use **xgboost**, a technique giving even better accuracy than Random Forest.\n",
    "\n",
    "The **[Pandas](https://kaggle.com/Learn/Pandas)** course will give you the data manipulation skills to quickly go from conceptual idea to implementation in your data science projects. \n",
    "\n",
    "You are also ready for the **[Deep Learning](https://kaggle.com/Learn/intro-to-Deep-Learning)** course, where you will build models with better-than-human level performance at computer vision tasks."
   ]
  },
  {
   "cell_type": "markdown",
   "id": "dc1b0c80",
   "metadata": {
    "papermill": {
     "duration": 0.014565,
     "end_time": "2021-07-27T12:35:07.820790",
     "exception": false,
     "start_time": "2021-07-27T12:35:07.806225",
     "status": "completed"
    },
    "tags": []
   },
   "source": [
    "---\n",
    "\n",
    "\n",
    "\n",
    "\n",
    "*Have questions or comments? Visit the [Learn Discussion forum](https://www.kaggle.com/learn-forum/161285) to chat with other Learners.*"
   ]
  }
 ],
 "metadata": {
  "kernelspec": {
   "display_name": "Python 3",
   "language": "python",
   "name": "python3"
  },
  "language_info": {
   "codemirror_mode": {
    "name": "ipython",
    "version": 3
   },
   "file_extension": ".py",
   "mimetype": "text/x-python",
   "name": "python",
   "nbconvert_exporter": "python",
   "pygments_lexer": "ipython3",
   "version": "3.7.10"
  },
  "papermill": {
   "default_parameters": {},
   "duration": 11.721476,
   "end_time": "2021-07-27T12:35:08.546144",
   "environment_variables": {},
   "exception": null,
   "input_path": "__notebook__.ipynb",
   "output_path": "__notebook__.ipynb",
   "parameters": {},
   "start_time": "2021-07-27T12:34:56.824668",
   "version": "2.3.3"
  }
 },
 "nbformat": 4,
 "nbformat_minor": 5
}
